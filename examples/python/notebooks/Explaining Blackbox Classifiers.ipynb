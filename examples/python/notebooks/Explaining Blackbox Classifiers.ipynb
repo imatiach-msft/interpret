{
 "cells": [
  {
   "cell_type": "markdown",
   "metadata": {},
   "source": [
    "## Setup a classification experiment"
   ]
  },
  {
   "cell_type": "code",
   "execution_count": 1,
   "metadata": {},
   "outputs": [],
   "source": [
    "import pandas as pd\n",
    "from sklearn.datasets import load_boston\n",
    "from sklearn.model_selection import train_test_split\n",
    "\n",
    "df = pd.read_csv(\n",
    "    \"https://archive.ics.uci.edu/ml/machine-learning-databases/adult/adult.data\",\n",
    "    header=None)\n",
    "df.columns = [\n",
    "    \"Age\", \"WorkClass\", \"fnlwgt\", \"Education\", \"EducationNum\",\n",
    "    \"MaritalStatus\", \"Occupation\", \"Relationship\", \"Race\", \"Gender\",\n",
    "    \"CapitalGain\", \"CapitalLoss\", \"HoursPerWeek\", \"NativeCountry\", \"Income\"\n",
    "]\n",
    "# df = df.sample(frac=0.01, random_state=1)\n",
    "train_cols = df.columns[0:-1]\n",
    "label = df.columns[-1]\n",
    "X = df[train_cols]\n",
    "y = df[label].apply(lambda x: 0 if x == \" <=50K\" else 1) #Turning response into 0 and 1\n",
    "\n",
    "# We have to transform categorical variables to use sklearn models\n",
    "X_enc = pd.get_dummies(X, prefix_sep='.')\n",
    "feature_names = list(X_enc.columns)\n",
    "\n",
    "seed = 1  \n",
    "X_train, X_test, y_train, y_test = train_test_split(X_enc, y, test_size=0.20, random_state=seed)"
   ]
  },
  {
   "cell_type": "markdown",
   "metadata": {},
   "source": [
    "## Train a blackbox classification system"
   ]
  },
  {
   "cell_type": "code",
   "execution_count": 2,
   "metadata": {},
   "outputs": [
    {
     "data": {
      "text/plain": [
       "Pipeline(memory=None,\n",
       "         steps=[('pca',\n",
       "                 PCA(copy=True, iterated_power='auto', n_components=None,\n",
       "                     random_state=None, svd_solver='auto', tol=0.0,\n",
       "                     whiten=False)),\n",
       "                ('rf',\n",
       "                 RandomForestClassifier(bootstrap=True, class_weight=None,\n",
       "                                        criterion='gini', max_depth=None,\n",
       "                                        max_features='auto',\n",
       "                                        max_leaf_nodes=None,\n",
       "                                        min_impurity_decrease=0.0,\n",
       "                                        min_impurity_split=None,\n",
       "                                        min_samples_leaf=1, min_samples_split=2,\n",
       "                                        min_weight_fraction_leaf=0.0,\n",
       "                                        n_estimators=100, n_jobs=-1,\n",
       "                                        oob_score=False, random_state=None,\n",
       "                                        verbose=0, warm_start=False))],\n",
       "         verbose=False)"
      ]
     },
     "execution_count": 2,
     "metadata": {},
     "output_type": "execute_result"
    }
   ],
   "source": [
    "from sklearn.ensemble import RandomForestClassifier\n",
    "from sklearn.decomposition import PCA\n",
    "from sklearn.pipeline import Pipeline\n",
    "\n",
    "#Blackbox system can include preprocessing, not just a classifier!\n",
    "pca = PCA()\n",
    "rf = RandomForestClassifier(n_estimators=100, n_jobs=-1)\n",
    "\n",
    "blackbox_model = Pipeline([('pca', pca), ('rf', rf)])\n",
    "blackbox_model.fit(X_train, y_train)"
   ]
  },
  {
   "cell_type": "markdown",
   "metadata": {},
   "source": [
    "## Show blackbox model performance"
   ]
  },
  {
   "cell_type": "code",
   "execution_count": 3,
   "metadata": {
    "scrolled": false
   },
   "outputs": [
    {
     "data": {
      "text/html": [
       "<!-- http://127.0.0.1:7319/1505125830440/ -->\n",
       "<iframe src=\"http://127.0.0.1:7319/1505125830440/\" width=100% height=800 frameBorder=\"0\"></iframe>"
      ]
     },
     "metadata": {},
     "output_type": "display_data"
    }
   ],
   "source": [
    "from interpret import show\n",
    "from interpret.perf import ROC\n",
    "\n",
    "blackbox_perf = ROC(blackbox_model.predict_proba).explain_perf(X_test, y_test, name='Blackbox')\n",
    "show(blackbox_perf)"
   ]
  },
  {
   "cell_type": "markdown",
   "metadata": {},
   "source": [
    "## Local Explanations: How an individual prediction was made"
   ]
  },
  {
   "cell_type": "code",
   "execution_count": 4,
   "metadata": {
    "scrolled": false
   },
   "outputs": [
    {
     "data": {
      "text/html": [
       "<!-- http://127.0.0.1:7319/1505342655176/ -->\n",
       "<iframe src=\"http://127.0.0.1:7319/1505342655176/\" width=100% height=800 frameBorder=\"0\"></iframe>"
      ]
     },
     "metadata": {},
     "output_type": "display_data"
    }
   ],
   "source": [
    "from interpret.blackbox import LimeTabular\n",
    "from interpret import show\n",
    "\n",
    "#Blackbox explainers need a predict function, and optionally a dataset\n",
    "lime = LimeTabular(predict_fn=blackbox_model.predict_proba, data=X_train, random_state=1)\n",
    "\n",
    "#Pick the instances to explain, optionally pass in labels if you have them\n",
    "lime_local = lime.explain_local(X_test[:5], y_test[:5], name='LIME')\n",
    "\n",
    "show(lime_local)"
   ]
  },
  {
   "cell_type": "code",
   "execution_count": 5,
   "metadata": {},
   "outputs": [
    {
     "data": {
      "application/vnd.jupyter.widget-view+json": {
       "model_id": "1cd1313ed6a9494cbf7b6a1c945cb61f",
       "version_major": 2,
       "version_minor": 0
      },
      "text/plain": [
       "HBox(children=(IntProgress(value=0, max=5), HTML(value='')))"
      ]
     },
     "metadata": {},
     "output_type": "display_data"
    },
    {
     "name": "stderr",
     "output_type": "stream",
     "text": [
      "c:\\shap\\shap\\explainers\\kernel.py:545: UserWarning:\n",
      "\n",
      "l1_reg=\"auto\" is deprecated and in the next version (v0.29) the behavior will change from a conditional use of AIC to simply \"num_features(10)\"!\n",
      "\n",
      "c:\\shap\\shap\\explainers\\kernel.py:545: UserWarning:\n",
      "\n",
      "l1_reg=\"auto\" is deprecated and in the next version (v0.29) the behavior will change from a conditional use of AIC to simply \"num_features(10)\"!\n",
      "\n",
      "c:\\shap\\shap\\explainers\\kernel.py:545: UserWarning:\n",
      "\n",
      "l1_reg=\"auto\" is deprecated and in the next version (v0.29) the behavior will change from a conditional use of AIC to simply \"num_features(10)\"!\n",
      "\n",
      "c:\\shap\\shap\\explainers\\kernel.py:545: UserWarning:\n",
      "\n",
      "l1_reg=\"auto\" is deprecated and in the next version (v0.29) the behavior will change from a conditional use of AIC to simply \"num_features(10)\"!\n",
      "\n",
      "c:\\shap\\shap\\explainers\\kernel.py:545: UserWarning:\n",
      "\n",
      "l1_reg=\"auto\" is deprecated and in the next version (v0.29) the behavior will change from a conditional use of AIC to simply \"num_features(10)\"!\n",
      "\n"
     ]
    },
    {
     "name": "stdout",
     "output_type": "stream",
     "text": [
      "\n"
     ]
    },
    {
     "data": {
      "text/html": [
       "<!-- http://127.0.0.1:7319/1505201367808/ -->\n",
       "<iframe src=\"http://127.0.0.1:7319/1505201367808/\" width=100% height=800 frameBorder=\"0\"></iframe>"
      ]
     },
     "metadata": {},
     "output_type": "display_data"
    }
   ],
   "source": [
    "from interpret.blackbox import ShapKernel\n",
    "import numpy as np\n",
    "\n",
    "background_val = np.median(X_train, axis=0).reshape(1, -1)\n",
    "shap = ShapKernel(predict_fn=blackbox_model.predict_proba, data=background_val, feature_names=feature_names)\n",
    "shap_local = shap.explain_local(X_test[:5], y_test[:5], name='SHAP')\n",
    "show(shap_local)"
   ]
  },
  {
   "cell_type": "markdown",
   "metadata": {},
   "source": [
    "## Global Explanations: How the model behaves overall"
   ]
  },
  {
   "cell_type": "code",
   "execution_count": 6,
   "metadata": {
    "scrolled": false
   },
   "outputs": [
    {
     "data": {
      "text/html": [
       "<!-- http://127.0.0.1:7319/1505342679976/ -->\n",
       "<iframe src=\"http://127.0.0.1:7319/1505342679976/\" width=100% height=800 frameBorder=\"0\"></iframe>"
      ]
     },
     "metadata": {},
     "output_type": "display_data"
    }
   ],
   "source": [
    "from interpret.blackbox import MorrisSensitivity\n",
    "\n",
    "sensitivity = MorrisSensitivity(predict_fn=blackbox_model.predict_proba, data=X_train)\n",
    "sensitivity_global = sensitivity.explain_global(name=\"Global Sensitivity\")\n",
    "\n",
    "show(sensitivity_global)"
   ]
  },
  {
   "cell_type": "code",
   "execution_count": 7,
   "metadata": {},
   "outputs": [
    {
     "name": "stdout",
     "output_type": "stream",
     "text": [
      "sort_indexes: \n",
      "[ 3  0  2  5  1  4 33 54 58 35 31 95 71 79 56]\n",
      "key: \n",
      "names\n",
      "data_dict[key]: \n",
      "['Age', 'fnlwgt', 'EducationNum', 'CapitalGain', 'CapitalLoss', 'HoursPerWeek', 'WorkClass. ?', 'WorkClass. Federal-gov', 'WorkClass. Local-gov', 'WorkClass. Never-worked', 'WorkClass. Private', 'WorkClass. Self-emp-inc', 'WorkClass. Self-emp-not-inc', 'WorkClass. State-gov', 'WorkClass. Without-pay', 'Education. 10th', 'Education. 11th', 'Education. 12th', 'Education. 1st-4th', 'Education. 5th-6th', 'Education. 7th-8th', 'Education. 9th', 'Education. Assoc-acdm', 'Education. Assoc-voc', 'Education. Bachelors', 'Education. Doctorate', 'Education. HS-grad', 'Education. Masters', 'Education. Preschool', 'Education. Prof-school', 'Education. Some-college', 'MaritalStatus. Divorced', 'MaritalStatus. Married-AF-spouse', 'MaritalStatus. Married-civ-spouse', 'MaritalStatus. Married-spouse-absent', 'MaritalStatus. Never-married', 'MaritalStatus. Separated', 'MaritalStatus. Widowed', 'Occupation. ?', 'Occupation. Adm-clerical', 'Occupation. Armed-Forces', 'Occupation. Craft-repair', 'Occupation. Exec-managerial', 'Occupation. Farming-fishing', 'Occupation. Handlers-cleaners', 'Occupation. Machine-op-inspct', 'Occupation. Other-service', 'Occupation. Priv-house-serv', 'Occupation. Prof-specialty', 'Occupation. Protective-serv', 'Occupation. Sales', 'Occupation. Tech-support', 'Occupation. Transport-moving', 'Relationship. Husband', 'Relationship. Not-in-family', 'Relationship. Other-relative', 'Relationship. Own-child', 'Relationship. Unmarried', 'Relationship. Wife', 'Race. Amer-Indian-Eskimo', 'Race. Asian-Pac-Islander', 'Race. Black', 'Race. Other', 'Race. White', 'Gender. Female', 'Gender. Male', 'NativeCountry. ?', 'NativeCountry. Cambodia', 'NativeCountry. Canada', 'NativeCountry. China', 'NativeCountry. Columbia', 'NativeCountry. Cuba', 'NativeCountry. Dominican-Republic', 'NativeCountry. Ecuador', 'NativeCountry. El-Salvador', 'NativeCountry. England', 'NativeCountry. France', 'NativeCountry. Germany', 'NativeCountry. Greece', 'NativeCountry. Guatemala', 'NativeCountry. Haiti', 'NativeCountry. Holand-Netherlands', 'NativeCountry. Honduras', 'NativeCountry. Hong', 'NativeCountry. Hungary', 'NativeCountry. India', 'NativeCountry. Iran', 'NativeCountry. Ireland', 'NativeCountry. Italy', 'NativeCountry. Jamaica', 'NativeCountry. Japan', 'NativeCountry. Laos', 'NativeCountry. Mexico', 'NativeCountry. Nicaragua', 'NativeCountry. Outlying-US(Guam-USVI-etc)', 'NativeCountry. Peru', 'NativeCountry. Philippines', 'NativeCountry. Poland', 'NativeCountry. Portugal', 'NativeCountry. Puerto-Rico', 'NativeCountry. Scotland', 'NativeCountry. South', 'NativeCountry. Taiwan', 'NativeCountry. Thailand', 'NativeCountry. Trinadad&Tobago', 'NativeCountry. United-States', 'NativeCountry. Vietnam', 'NativeCountry. Yugoslavia']\n",
      "<class 'list'>\n",
      "key: \n",
      "scores\n",
      "data_dict[key]: \n",
      "[0.055875  0.039195  0.050085  0.13818   0.037215  0.04968   0.023175\n",
      " 0.027465  0.02835   0.02076   0.0195    0.029235  0.02535   0.02856\n",
      " 0.017655  0.02817   0.02946   0.026475  0.025665  0.02523   0.02919\n",
      " 0.02871   0.02952   0.028545  0.030945  0.02826   0.02622   0.03186\n",
      " 0.02493   0.029325  0.025125  0.03366   0.023355  0.03456   0.026625\n",
      " 0.03393   0.03093   0.028065  0.02427   0.02796   0.019065  0.0281775\n",
      " 0.031785  0.026835  0.027105  0.026895  0.027735  0.03018   0.03108\n",
      " 0.02574   0.02859   0.02853   0.028245  0.031965  0.03438   0.024525\n",
      " 0.03246   0.03198   0.034215  0.02277   0.027585  0.02775   0.022275\n",
      " 0.027495  0.025035  0.02685   0.03006   0.022095  0.02832   0.027435\n",
      " 0.027015  0.03294   0.030435  0.02475   0.031395  0.026895  0.02652\n",
      " 0.0228    0.02718   0.03267   0.02724   0.        0.02601   0.027015\n",
      " 0.018225  0.028335  0.02478   0.02301   0.030375  0.028095  0.02898\n",
      " 0.02427   0.02883   0.030165  0.017925  0.0329625 0.024375  0.030075\n",
      " 0.025725  0.027045  0.017145  0.025425  0.025845  0.019845  0.0234\n",
      " 0.027255  0.027315  0.020325 ]\n",
      "<class 'numpy.ndarray'>\n"
     ]
    },
    {
     "data": {
      "text/html": [
       "<!-- http://127.0.0.1:7319/1503238994576/ -->\n",
       "<iframe src=\"http://127.0.0.1:7319/1503238994576/\" width=100% height=800 frameBorder=\"0\"></iframe>"
      ]
     },
     "metadata": {},
     "output_type": "display_data"
    }
   ],
   "source": [
    "from interpret.blackbox import PartialDependence\n",
    "\n",
    "pdp = PartialDependence(predict_fn=blackbox_model.predict_proba, data=X_train)\n",
    "pdp_global = pdp.explain_global(name='Partial Dependence')\n",
    "\n",
    "show(pdp_global)"
   ]
  },
  {
   "cell_type": "markdown",
   "metadata": {},
   "source": [
    "## Compare them all in the Dashboard"
   ]
  },
  {
   "cell_type": "code",
   "execution_count": 8,
   "metadata": {
    "scrolled": false
   },
   "outputs": [
    {
     "data": {
      "text/html": [
       "<!-- http://127.0.0.1:7319/1503239718536/ -->\n",
       "<a href=\"http://127.0.0.1:7319/1503239718536/\" target=\"_new\">Open in new window</a><iframe src=\"http://127.0.0.1:7319/1503239718536/\" width=100% height=800 frameBorder=\"0\"></iframe>"
      ]
     },
     "metadata": {},
     "output_type": "display_data"
    }
   ],
   "source": [
    "show([blackbox_perf, lime_local, shap_local, sensitivity_global, pdp_global])"
   ]
  },
  {
   "cell_type": "code",
   "execution_count": 9,
   "metadata": {},
   "outputs": [],
   "source": [
    "#from importlib import reload\n",
    "#import azureml.explain.model"
   ]
  },
  {
   "cell_type": "code",
   "execution_count": 10,
   "metadata": {},
   "outputs": [],
   "source": [
    "# reload(azureml.explain.model)"
   ]
  },
  {
   "cell_type": "code",
   "execution_count": 11,
   "metadata": {},
   "outputs": [],
   "source": [
    "from interpret.ext.blackbox import TabularExplainer"
   ]
  },
  {
   "cell_type": "code",
   "execution_count": 12,
   "metadata": {},
   "outputs": [
    {
     "name": "stderr",
     "output_type": "stream",
     "text": [
      "c:\\shap\\shap\\explainers\\linear.py:49: UserWarning:\n",
      "\n",
      "The default value for feature_dependence has been changed to \"independent\"!\n",
      "\n"
     ]
    }
   ],
   "source": [
    "tabular_explainer = TabularExplainer(blackbox_model, X_train)"
   ]
  },
  {
   "cell_type": "code",
   "execution_count": 13,
   "metadata": {},
   "outputs": [
    {
     "data": {
      "application/vnd.jupyter.widget-view+json": {
       "model_id": "4776fcb4329943159ee5270666047dac",
       "version_major": 2,
       "version_minor": 0
      },
      "text/plain": [
       "HBox(children=(IntProgress(value=0, max=10), HTML(value='')))"
      ]
     },
     "metadata": {},
     "output_type": "display_data"
    },
    {
     "name": "stderr",
     "output_type": "stream",
     "text": [
      "c:\\shap\\shap\\explainers\\kernel.py:545: UserWarning:\n",
      "\n",
      "l1_reg=\"auto\" is deprecated and in the next version (v0.29) the behavior will change from a conditional use of AIC to simply \"num_features(10)\"!\n",
      "\n",
      "c:\\shap\\shap\\explainers\\kernel.py:545: UserWarning:\n",
      "\n",
      "l1_reg=\"auto\" is deprecated and in the next version (v0.29) the behavior will change from a conditional use of AIC to simply \"num_features(10)\"!\n",
      "\n",
      "c:\\shap\\shap\\explainers\\kernel.py:545: UserWarning:\n",
      "\n",
      "l1_reg=\"auto\" is deprecated and in the next version (v0.29) the behavior will change from a conditional use of AIC to simply \"num_features(10)\"!\n",
      "\n",
      "c:\\shap\\shap\\explainers\\kernel.py:545: UserWarning:\n",
      "\n",
      "l1_reg=\"auto\" is deprecated and in the next version (v0.29) the behavior will change from a conditional use of AIC to simply \"num_features(10)\"!\n",
      "\n",
      "c:\\shap\\shap\\explainers\\kernel.py:545: UserWarning:\n",
      "\n",
      "l1_reg=\"auto\" is deprecated and in the next version (v0.29) the behavior will change from a conditional use of AIC to simply \"num_features(10)\"!\n",
      "\n",
      "c:\\shap\\shap\\explainers\\kernel.py:545: UserWarning:\n",
      "\n",
      "l1_reg=\"auto\" is deprecated and in the next version (v0.29) the behavior will change from a conditional use of AIC to simply \"num_features(10)\"!\n",
      "\n",
      "c:\\shap\\shap\\explainers\\kernel.py:545: UserWarning:\n",
      "\n",
      "l1_reg=\"auto\" is deprecated and in the next version (v0.29) the behavior will change from a conditional use of AIC to simply \"num_features(10)\"!\n",
      "\n",
      "c:\\shap\\shap\\explainers\\kernel.py:545: UserWarning:\n",
      "\n",
      "l1_reg=\"auto\" is deprecated and in the next version (v0.29) the behavior will change from a conditional use of AIC to simply \"num_features(10)\"!\n",
      "\n",
      "c:\\shap\\shap\\explainers\\kernel.py:545: UserWarning:\n",
      "\n",
      "l1_reg=\"auto\" is deprecated and in the next version (v0.29) the behavior will change from a conditional use of AIC to simply \"num_features(10)\"!\n",
      "\n",
      "c:\\shap\\shap\\explainers\\kernel.py:545: UserWarning:\n",
      "\n",
      "l1_reg=\"auto\" is deprecated and in the next version (v0.29) the behavior will change from a conditional use of AIC to simply \"num_features(10)\"!\n",
      "\n"
     ]
    },
    {
     "name": "stdout",
     "output_type": "stream",
     "text": [
      "\n"
     ]
    }
   ],
   "source": [
    "global_explanation = tabular_explainer.explain_global(X_test[0:10])"
   ]
  },
  {
   "cell_type": "code",
   "execution_count": 14,
   "metadata": {},
   "outputs": [
    {
     "data": {
      "text/html": [
       "<!-- http://127.0.0.1:7319/1503496403096/ -->\n",
       "<iframe src=\"http://127.0.0.1:7319/1503496403096/\" width=100% height=800 frameBorder=\"0\"></iframe>"
      ]
     },
     "metadata": {},
     "output_type": "display_data"
    }
   ],
   "source": [
    "show(global_explanation)"
   ]
  },
  {
   "cell_type": "code",
   "execution_count": 15,
   "metadata": {},
   "outputs": [],
   "source": [
    "names = ['Age', 'fnlwgt', 'EducationNum', 'CapitalGain', 'CapitalLoss', 'HoursPerWeek', 'WorkClass. ?', 'WorkClass. Federal-gov', 'WorkClass. Local-gov', 'WorkClass. Never-worked', 'WorkClass. Private', 'WorkClass. Self-emp-inc', 'WorkClass. Self-emp-not-inc', 'WorkClass. State-gov', 'WorkClass. Without-pay', 'Education. 10th', 'Education. 11th', 'Education. 12th', 'Education. 1st-4th', 'Education. 5th-6th', 'Education. 7th-8th', 'Education. 9th', 'Education. Assoc-acdm', 'Education. Assoc-voc', 'Education. Bachelors', 'Education. Doctorate', 'Education. HS-grad', 'Education. Masters', 'Education. Preschool', 'Education. Prof-school', 'Education. Some-college', 'MaritalStatus. Divorced', 'MaritalStatus. Married-AF-spouse', 'MaritalStatus. Married-civ-spouse', 'MaritalStatus. Married-spouse-absent', 'MaritalStatus. Never-married', 'MaritalStatus. Separated', 'MaritalStatus. Widowed', 'Occupation. ?', 'Occupation. Adm-clerical', 'Occupation. Armed-Forces', 'Occupation. Craft-repair', 'Occupation. Exec-managerial', 'Occupation. Farming-fishing', 'Occupation. Handlers-cleaners', 'Occupation. Machine-op-inspct', 'Occupation. Other-service', 'Occupation. Priv-house-serv', 'Occupation. Prof-specialty', 'Occupation. Protective-serv', 'Occupation. Sales', 'Occupation. Tech-support', 'Occupation. Transport-moving', 'Relationship. Husband', 'Relationship. Not-in-family', 'Relationship. Other-relative', 'Relationship. Own-child', 'Relationship. Unmarried', 'Relationship. Wife', 'Race. Amer-Indian-Eskimo', 'Race. Asian-Pac-Islander', 'Race. Black', 'Race. Other', 'Race. White', 'Gender. Female', 'Gender. Male', 'NativeCountry. ?', 'NativeCountry. Cambodia', 'NativeCountry. Canada', 'NativeCountry. China', 'NativeCountry. Columbia', 'NativeCountry. Cuba', 'NativeCountry. Dominican-Republic', 'NativeCountry. Ecuador', 'NativeCountry. El-Salvador', 'NativeCountry. England', 'NativeCountry. France', 'NativeCountry. Germany', 'NativeCountry. Greece', 'NativeCountry. Guatemala', 'NativeCountry. Haiti', 'NativeCountry. Holand-Netherlands', 'NativeCountry. Honduras', 'NativeCountry. Hong', 'NativeCountry. Hungary', 'NativeCountry. India', 'NativeCountry. Iran', 'NativeCountry. Ireland', 'NativeCountry. Italy', 'NativeCountry. Jamaica', 'NativeCountry. Japan', 'NativeCountry. Laos', 'NativeCountry. Mexico', 'NativeCountry. Nicaragua', 'NativeCountry. Outlying-US(Guam-USVI-etc)', 'NativeCountry. Peru', 'NativeCountry. Philippines', 'NativeCountry. Poland', 'NativeCountry. Portugal', 'NativeCountry. Puerto-Rico', 'NativeCountry. Scotland', 'NativeCountry. South', 'NativeCountry. Taiwan', 'NativeCountry. Thailand', 'NativeCountry. Trinadad&Tobago', 'NativeCountry. United-States', 'NativeCountry. Vietnam', 'NativeCountry. Yugoslavia']"
   ]
  },
  {
   "cell_type": "code",
   "execution_count": 16,
   "metadata": {},
   "outputs": [
    {
     "ename": "TypeError",
     "evalue": "only integer scalar arrays can be converted to a scalar index",
     "output_type": "error",
     "traceback": [
      "\u001b[1;31m---------------------------------------------------------------------------\u001b[0m",
      "\u001b[1;31mTypeError\u001b[0m                                 Traceback (most recent call last)",
      "\u001b[1;32m<ipython-input-16-8eef69dbe933>\u001b[0m in \u001b[0;36m<module>\u001b[1;34m\u001b[0m\n\u001b[1;32m----> 1\u001b[1;33m \u001b[0mnames\u001b[0m\u001b[1;33m[\u001b[0m\u001b[0mnp\u001b[0m\u001b[1;33m.\u001b[0m\u001b[0marray\u001b[0m\u001b[1;33m(\u001b[0m\u001b[1;33m[\u001b[0m\u001b[1;36m1\u001b[0m\u001b[1;33m,\u001b[0m\u001b[1;36m2\u001b[0m\u001b[1;33m,\u001b[0m\u001b[1;36m3\u001b[0m\u001b[1;33m]\u001b[0m\u001b[1;33m)\u001b[0m\u001b[1;33m]\u001b[0m\u001b[1;33m\u001b[0m\u001b[1;33m\u001b[0m\u001b[0m\n\u001b[0m",
      "\u001b[1;31mTypeError\u001b[0m: only integer scalar arrays can be converted to a scalar index"
     ]
    },
    {
     "name": "stdout",
     "output_type": "stream",
     "text": [
      "sort_indexes: \n",
      "[ 3 53  0 35  5 33 26  1 46  2 48 16 20 45 30]\n",
      "key: \n",
      "names\n",
      "data_dict[key]: \n",
      "['Age', 'fnlwgt', 'EducationNum', 'CapitalGain', 'CapitalLoss', 'HoursPerWeek', 'WorkClass. ?', 'WorkClass. Federal-gov', 'WorkClass. Local-gov', 'WorkClass. Never-worked', 'WorkClass. Private', 'WorkClass. Self-emp-inc', 'WorkClass. Self-emp-not-inc', 'WorkClass. State-gov', 'WorkClass. Without-pay', 'Education. 10th', 'Education. 11th', 'Education. 12th', 'Education. 1st-4th', 'Education. 5th-6th', 'Education. 7th-8th', 'Education. 9th', 'Education. Assoc-acdm', 'Education. Assoc-voc', 'Education. Bachelors', 'Education. Doctorate', 'Education. HS-grad', 'Education. Masters', 'Education. Preschool', 'Education. Prof-school', 'Education. Some-college', 'MaritalStatus. Divorced', 'MaritalStatus. Married-AF-spouse', 'MaritalStatus. Married-civ-spouse', 'MaritalStatus. Married-spouse-absent', 'MaritalStatus. Never-married', 'MaritalStatus. Separated', 'MaritalStatus. Widowed', 'Occupation. ?', 'Occupation. Adm-clerical', 'Occupation. Armed-Forces', 'Occupation. Craft-repair', 'Occupation. Exec-managerial', 'Occupation. Farming-fishing', 'Occupation. Handlers-cleaners', 'Occupation. Machine-op-inspct', 'Occupation. Other-service', 'Occupation. Priv-house-serv', 'Occupation. Prof-specialty', 'Occupation. Protective-serv', 'Occupation. Sales', 'Occupation. Tech-support', 'Occupation. Transport-moving', 'Relationship. Husband', 'Relationship. Not-in-family', 'Relationship. Other-relative', 'Relationship. Own-child', 'Relationship. Unmarried', 'Relationship. Wife', 'Race. Amer-Indian-Eskimo', 'Race. Asian-Pac-Islander', 'Race. Black', 'Race. Other', 'Race. White', 'Gender. Female', 'Gender. Male', 'NativeCountry. ?', 'NativeCountry. Cambodia', 'NativeCountry. Canada', 'NativeCountry. China', 'NativeCountry. Columbia', 'NativeCountry. Cuba', 'NativeCountry. Dominican-Republic', 'NativeCountry. Ecuador', 'NativeCountry. El-Salvador', 'NativeCountry. England', 'NativeCountry. France', 'NativeCountry. Germany', 'NativeCountry. Greece', 'NativeCountry. Guatemala', 'NativeCountry. Haiti', 'NativeCountry. Holand-Netherlands', 'NativeCountry. Honduras', 'NativeCountry. Hong', 'NativeCountry. Hungary', 'NativeCountry. India', 'NativeCountry. Iran', 'NativeCountry. Ireland', 'NativeCountry. Italy', 'NativeCountry. Jamaica', 'NativeCountry. Japan', 'NativeCountry. Laos', 'NativeCountry. Mexico', 'NativeCountry. Nicaragua', 'NativeCountry. Outlying-US(Guam-USVI-etc)', 'NativeCountry. Peru', 'NativeCountry. Philippines', 'NativeCountry. Poland', 'NativeCountry. Portugal', 'NativeCountry. Puerto-Rico', 'NativeCountry. Scotland', 'NativeCountry. South', 'NativeCountry. Taiwan', 'NativeCountry. Thailand', 'NativeCountry. Trinadad&Tobago', 'NativeCountry. United-States', 'NativeCountry. Vietnam', 'NativeCountry. Yugoslavia']\n",
      "<class 'list'>\n",
      "key: \n",
      "scores\n",
      "data_dict[key]: \n",
      "[0.025320516434320317, 0.014465022864393462, 0.01299960734562438, 0.05651824932147192, 0.0, 0.01886554569092039, 0.0, 0.0, 0.0021471570667829323, 0.0, 0.003440831383156451, 0.0, 0.00017332967087428704, 0.0, 0.0, 0.0, 0.007597093053982254, 0.0, 0.0, 0.0, 0.004946273665849698, 0.0, 0.0, 0.0, 0.0010028281274375161, 0.0, 0.01707953875002883, 0.0012507864293926545, 0.0, 0.0, 0.004744969771922895, 0.003628857896045391, 0.0, 0.017159595503949188, 0.0, 0.01908695513298552, 0.0, 0.0023006852553439337, 0.0, 0.0, 0.0, 0.0, 0.004195388093044346, 0.001713266960141986, 0.004600434498658933, 0.004832100052661133, 0.014035418524125997, 0.0, 0.008468888746779497, 0.0, 0.0, 0.0, 0.0, 0.02812349513308321, 0.0042620495332902865, 0.002304377373517992, 0.0020646569763757257, 0.001638813117186691, 0.0, 0.0, 0.0, 0.0001657119412801219, 0.0, 0.0038635018425856524, 0.0023239785796646947, 0.0026669203666371023, 0.0, 0.0, 0.0, 0.0, 0.0, 0.0, 0.0, 0.0, 0.0, 0.0, 0.0, 0.0, 0.0, 0.0, 0.0, 0.0, 0.0, 0.0, 0.0, 0.0, 0.0, 0.0, 0.0, 0.0, 0.0, 0.0, 0.0, 0.0, 0.0, 0.0, 0.0, 0.0, 0.0, 0.0, 0.0, 0.0, 0.0, 0.0, 0.0, 0.0, 0.0, 0.0]\n",
      "<class 'list'>\n"
     ]
    },
    {
     "name": "stderr",
     "output_type": "stream",
     "text": [
      "WARNING: Logging before flag parsing goes to stderr.\n",
      "E0912 18:13:25.435784 23868 udash.py:186] index 107 is out of bounds for axis 1 with size 10\n",
      "Traceback (most recent call last):\n",
      "  File \"C:\\Users\\ilmat\\AppData\\Local\\Continuum\\Miniconda3\\envs\\sh\\lib\\site-packages\\flask\\app.py\", line 1832, in full_dispatch_request\n",
      "    rv = self.dispatch_request()\n",
      "  File \"C:\\Users\\ilmat\\AppData\\Local\\Continuum\\Miniconda3\\envs\\sh\\lib\\site-packages\\flask\\app.py\", line 1818, in dispatch_request\n",
      "    return self.view_functions[rule.endpoint](**req.view_args)\n",
      "  File \"C:\\Users\\ilmat\\AppData\\Local\\Continuum\\Miniconda3\\envs\\sh\\lib\\site-packages\\dash\\dash.py\", line 1287, in dispatch\n",
      "    response.set_data(self.callback_map[output]['callback'](*args))\n",
      "  File \"C:\\Users\\ilmat\\AppData\\Local\\Continuum\\Miniconda3\\envs\\sh\\lib\\site-packages\\dash\\dash.py\", line 1171, in add_context\n",
      "    output_value = func(*args, **kwargs)\n",
      "  File \"c:\\interpret\\python\\interpret\\visual\\udash.py\", line 180, in update_viz_container\n",
      "    output_div = gen_plot(explanation, int(value), 0, 0)\n",
      "  File \"c:\\interpret\\python\\interpret\\visual\\udash.py\", line 271, in gen_plot\n",
      "    figure = exp.visualize(key=picker)\n",
      "  File \"c:\\interpret-community\\python\\interpret_ext\\community\\explanation\\explanation.py\", line 148, in visualize\n",
      "    scores = scores[:, key, :]\n",
      "IndexError: index 107 is out of bounds for axis 1 with size 10\n",
      "E0912 18:13:38.539277 23868 udash.py:186] index 10 is out of bounds for axis 1 with size 10\n",
      "Traceback (most recent call last):\n",
      "  File \"C:\\Users\\ilmat\\AppData\\Local\\Continuum\\Miniconda3\\envs\\sh\\lib\\site-packages\\flask\\app.py\", line 1832, in full_dispatch_request\n",
      "    rv = self.dispatch_request()\n",
      "  File \"C:\\Users\\ilmat\\AppData\\Local\\Continuum\\Miniconda3\\envs\\sh\\lib\\site-packages\\flask\\app.py\", line 1818, in dispatch_request\n",
      "    return self.view_functions[rule.endpoint](**req.view_args)\n",
      "  File \"C:\\Users\\ilmat\\AppData\\Local\\Continuum\\Miniconda3\\envs\\sh\\lib\\site-packages\\dash\\dash.py\", line 1287, in dispatch\n",
      "    response.set_data(self.callback_map[output]['callback'](*args))\n",
      "  File \"C:\\Users\\ilmat\\AppData\\Local\\Continuum\\Miniconda3\\envs\\sh\\lib\\site-packages\\dash\\dash.py\", line 1171, in add_context\n",
      "    output_value = func(*args, **kwargs)\n",
      "  File \"c:\\interpret\\python\\interpret\\visual\\udash.py\", line 180, in update_viz_container\n",
      "    output_div = gen_plot(explanation, int(value), 0, 0)\n",
      "  File \"c:\\interpret\\python\\interpret\\visual\\udash.py\", line 271, in gen_plot\n",
      "    figure = exp.visualize(key=picker)\n",
      "  File \"c:\\interpret-community\\python\\interpret_ext\\community\\explanation\\explanation.py\", line 148, in visualize\n",
      "    scores = scores[:, key, :]\n",
      "IndexError: index 10 is out of bounds for axis 1 with size 10\n"
     ]
    }
   ],
   "source": [
    "names[np.array([1,2,3])]"
   ]
  },
  {
   "cell_type": "code",
   "execution_count": null,
   "metadata": {},
   "outputs": [],
   "source": []
  }
 ],
 "metadata": {
  "kernelspec": {
   "display_name": "Python 3",
   "language": "python",
   "name": "python3"
  },
  "language_info": {
   "codemirror_mode": {
    "name": "ipython",
    "version": 3
   },
   "file_extension": ".py",
   "mimetype": "text/x-python",
   "name": "python",
   "nbconvert_exporter": "python",
   "pygments_lexer": "ipython3",
   "version": "3.6.8"
  }
 },
 "nbformat": 4,
 "nbformat_minor": 2
}
